{
 "cells": [
  {
   "cell_type": "code",
   "execution_count": 1,
   "id": "858d2a4f-de41-4029-a9e8-21ec4fd32fc4",
   "metadata": {},
   "outputs": [],
   "source": [
    "from pycht import Pycht"
   ]
  },
  {
   "cell_type": "code",
   "execution_count": 3,
   "id": "3829209b-33d0-4ca9-8ea2-25238a54955f",
   "metadata": {},
   "outputs": [],
   "source": [
    "Pycht().stencil('../misc/cat.jpg', 'stencil_cat.jpg', 4)"
   ]
  },
  {
   "cell_type": "code",
   "execution_count": null,
   "id": "5668ab94-3015-4c23-bef6-8bfbcf8e6695",
   "metadata": {},
   "outputs": [],
   "source": []
  }
 ],
 "metadata": {
  "kernelspec": {
   "display_name": "Python 3 (ipykernel)",
   "language": "python",
   "name": "python3"
  },
  "language_info": {
   "codemirror_mode": {
    "name": "ipython",
    "version": 3
   },
   "file_extension": ".py",
   "mimetype": "text/x-python",
   "name": "python",
   "nbconvert_exporter": "python",
   "pygments_lexer": "ipython3",
   "version": "3.10.12"
  }
 },
 "nbformat": 4,
 "nbformat_minor": 5
}
